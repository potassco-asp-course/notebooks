{
 "cells": [
  {
   "cell_type": "markdown",
   "metadata": {},
   "source": [
    "# **Exercise 06. Others.**\n",
    "In this exercise, simply try to understand the results."
   ]
  },
  {
   "cell_type": "markdown",
   "metadata": {},
   "source": [
    "#### **1**"
   ]
  },
  {
   "cell_type": "code",
   "execution_count": 1,
   "metadata": {},
   "outputs": [
    {
     "name": "stdout",
     "output_type": "stream",
     "text": [
      "a(1)\n",
      "SATISFIABLE\n"
     ]
    }
   ],
   "source": [
    "%%clingo -V0 0\n",
    "\n",
    "% python functions definition\n",
    "#script(python)\n",
    "from clingo.symbol import Number\n",
    "def get_value():    \n",
    "    return Number(1)\n",
    "#end.\n",
    "\n",
    "% python functions usage\n",
    "a(X) :- X = @get_value()."
   ]
  },
  {
   "cell_type": "markdown",
   "metadata": {},
   "source": [
    "#### **2**"
   ]
  },
  {
   "cell_type": "code",
   "execution_count": 2,
   "metadata": {},
   "outputs": [
    {
     "name": "stdout",
     "output_type": "stream",
     "text": [
      "true notfalse\n",
      "SATISFIABLE\n"
     ]
    }
   ],
   "source": [
    "%%clingo -V0 0\n",
    "\n",
    "% #true and #false\n",
    "true :- #true.\n",
    "notfalse :- not #false."
   ]
  },
  {
   "cell_type": "markdown",
   "metadata": {},
   "source": [
    "#### **3**"
   ]
  },
  {
   "cell_type": "code",
   "execution_count": 3,
   "metadata": {},
   "outputs": [
    {
     "name": "stdout",
     "output_type": "stream",
     "text": [
      "a(2)\n",
      "SATISFIABLE\n"
     ]
    }
   ],
   "source": [
    "%%clingo -V0 0\n",
    "\n",
    "% constants\n",
    "#const n=2.\n",
    "a(n)."
   ]
  },
  {
   "cell_type": "code",
   "execution_count": 4,
   "metadata": {},
   "outputs": [
    {
     "name": "stdout",
     "output_type": "stream",
     "text": [
      "a(house)\n",
      "SATISFIABLE\n"
     ]
    }
   ],
   "source": [
    "%%clingo -V0 0 -c n=house\n",
    "\n",
    "% constants\n",
    "#const n=2.\n",
    "a(n)."
   ]
  },
  {
   "cell_type": "markdown",
   "metadata": {},
   "source": [
    "#### **4**"
   ]
  },
  {
   "cell_type": "code",
   "execution_count": 5,
   "metadata": {},
   "outputs": [
    {
     "name": "stdout",
     "output_type": "stream",
     "text": [
      "a(-1) a(0) a(1)\n",
      "SATISFIABLE\n"
     ]
    }
   ],
   "source": [
    "%%clingo -V0 0\n",
    "\n",
    "% intervals\n",
    "a(-1..1)."
   ]
  },
  {
   "cell_type": "markdown",
   "metadata": {},
   "source": [
    "#### **5**"
   ]
  },
  {
   "cell_type": "code",
   "execution_count": 6,
   "metadata": {},
   "outputs": [
    {
     "name": "stdout",
     "output_type": "stream",
     "text": [
      "a(1)\n",
      "SATISFIABLE\n"
     ]
    }
   ],
   "source": [
    "%%clingo -V0 0\n",
    "\n",
    "% show statements\n",
    "a(1). b(1).\n",
    "#show a/1.\n"
   ]
  },
  {
   "cell_type": "code",
   "execution_count": 7,
   "metadata": {},
   "outputs": [
    {
     "name": "stdout",
     "output_type": "stream",
     "text": [
      "\n",
      "SATISFIABLE\n"
     ]
    }
   ],
   "source": [
    "%%clingo -V0 0\n",
    "\n",
    "% show statements\n",
    "a(1). b(1).\n",
    "#show.\n"
   ]
  },
  {
   "cell_type": "code",
   "execution_count": 8,
   "metadata": {},
   "outputs": [
    {
     "name": "stdout",
     "output_type": "stream",
     "text": [
      "\"wonderful\"\n",
      "SATISFIABLE\n"
     ]
    }
   ],
   "source": [
    "%%clingo -V0 0\n",
    "\n",
    "% show statements\n",
    "a(1). b(1).\n",
    "\n",
    "#show.\n",
    "#show \"wonderful\" : a(1), b(1).\n"
   ]
  },
  {
   "cell_type": "markdown",
   "metadata": {},
   "source": [
    "#### **6**"
   ]
  },
  {
   "cell_type": "code",
   "execution_count": 9,
   "metadata": {},
   "outputs": [
    {
     "name": "stdout",
     "output_type": "stream",
     "text": [
      "d(1)\n",
      "d(1) b(1)\n",
      "SATISFIABLE\n"
     ]
    }
   ],
   "source": [
    "%%clingo -V0 0 --project\n",
    "\n",
    "% projection\n",
    "{ b(1) }.\n",
    "{ c(1) }.\n",
    "d(1).\n",
    "#project b/1."
   ]
  }
 ],
 "metadata": {
  "kernelspec": {
   "display_name": "Python 3 (ipykernel)",
   "language": "python",
   "name": "python3"
  },
  "language_info": {
   "codemirror_mode": {
    "name": "ipython",
    "version": 3
   },
   "file_extension": ".py",
   "mimetype": "text/x-python",
   "name": "python",
   "nbconvert_exporter": "python",
   "pygments_lexer": "ipython3",
   "version": "3.12.3"
  }
 },
 "nbformat": 4,
 "nbformat_minor": 4
}
