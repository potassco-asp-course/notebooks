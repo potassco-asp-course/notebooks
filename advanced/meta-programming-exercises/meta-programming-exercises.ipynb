{
 "cells": [
  {
   "cell_type": "markdown",
   "metadata": {},
   "source": [
    "# Meta programming in ASP\n",
    "\n",
    "This notebook contains some notes and exercises about Meta programming in ASP.\n",
    "\n",
    "It is based on section 3 of the paper [1]. \n",
    "\n",
    "Before you start, we recommend you to read that section, up to part 3.3.2 (included).\n",
    "\n",
    "[1] [Kaminski, R., Romero, J., Schaub, T., & Wanko, P. (2023). How to Build Your Own ASP-based System?! Theory Pract. Log. Program., 23(1), 299–361.](https://arxiv.org/pdf/2008.06692.pdf)"
   ]
  },
  {
   "cell_type": "markdown",
   "metadata": {},
   "source": [
    "## Preliminaries: the aspif format"
   ]
  },
  {
   "cell_type": "markdown",
   "metadata": {},
   "source": [
    "Consider the following logic program:"
   ]
  },
  {
   "cell_type": "code",
   "execution_count": 1,
   "metadata": {
    "tags": []
   },
   "outputs": [
    {
     "name": "stdout",
     "output_type": "stream",
     "text": [
      "Writing example0.lp\n"
     ]
    }
   ],
   "source": [
    "%%file example0.lp\n",
    "{a}.\n",
    " b :- a."
   ]
  },
  {
   "cell_type": "markdown",
   "metadata": {},
   "source": [
    "You can compute its 2 answer sets with the following command."
   ]
  },
  {
   "cell_type": "code",
   "execution_count": 2,
   "metadata": {},
   "outputs": [
    {
     "name": "stdout",
     "output_type": "stream",
     "text": [
      "clingo version 5.8.0\n",
      "Reading from example0.lp\n",
      "Solving...\n",
      "Answer: 1 (Time: 0.034s)\n",
      "\n",
      "Answer: 2 (Time: 0.034s)\n",
      "a b\n",
      "SATISFIABLE\n",
      "\n",
      "Models       : 2\n",
      "Calls        : 1\n",
      "Time         : 0.034s (Solving: 0.00s 1st Model: 0.00s Unsat: 0.00s)\n",
      "CPU Time     : 0.001s\n"
     ]
    }
   ],
   "source": [
    "! clingo example0.lp 0"
   ]
  },
  {
   "cell_type": "markdown",
   "metadata": {},
   "source": [
    "In what follows, we will use option `-V0` to reduce the lines in the output. \n",
    "In this example, this leads to **3** lines: \n",
    "* one (empty) for answer set `{}`,\n",
    "* another for answer set `{a,b}`, and\n",
    "* the last one for the `SATISFIABLE` message."
   ]
  },
  {
   "cell_type": "code",
   "execution_count": 3,
   "metadata": {
    "tags": []
   },
   "outputs": [
    {
     "name": "stdout",
     "output_type": "stream",
     "text": [
      "\n",
      "a b\n",
      "SATISFIABLE\n"
     ]
    }
   ],
   "source": [
    "! clingo example0.lp 0 -V0"
   ]
  },
  {
   "cell_type": "markdown",
   "metadata": {},
   "source": [
    "You can ground the program using option `--mode=gringo`, that generates a ground program in **aspif** format:"
   ]
  },
  {
   "cell_type": "code",
   "execution_count": 4,
   "metadata": {
    "tags": []
   },
   "outputs": [
    {
     "name": "stdout",
     "output_type": "stream",
     "text": [
      "asp 1 0 0\n",
      "1 1 1 1 0 0\n",
      "1 0 1 2 0 1 1\n",
      "4 1 a 1 1\n",
      "4 1 b 1 2\n",
      "0\n"
     ]
    }
   ],
   "source": [
    "! clingo example0.lp --mode=gringo"
   ]
  },
  {
   "cell_type": "markdown",
   "metadata": {},
   "source": [
    "The first line is the header.\n",
    "The last one, with a single `0`, marks the end of the file. \n",
    "We explain below in detail the meaning of the other lines.\n",
    "\n",
    "The script `aspif-pretty-printer.py` gives us a more readable version of the aspif format.\n",
    "\n",
    "It dismisses the first and the last line, and prints every inner line as a kind of ASP rule or directive\n",
    "(using numbers instead of symbolic atoms)."
   ]
  },
  {
   "cell_type": "code",
   "execution_count": 5,
   "metadata": {
    "tags": []
   },
   "outputs": [
    {
     "name": "stdout",
     "output_type": "stream",
     "text": [
      "{ 1 }.\n",
      "2 :- 1.\n",
      "#show a : 1.\n",
      "#show b : 2.\n"
     ]
    }
   ],
   "source": [
    "! python aspif/aspif-pretty-printer.py example0.lp"
   ]
  },
  {
   "cell_type": "markdown",
   "metadata": {},
   "source": [
    "The script also provides option `--text` that uses the `#show` statements to replace the numbers (`1`, `2`, ...) by symbolic atoms when possible:"
   ]
  },
  {
   "cell_type": "code",
   "execution_count": 6,
   "metadata": {
    "tags": []
   },
   "outputs": [
    {
     "name": "stdout",
     "output_type": "stream",
     "text": [
      "{ a }.\n",
      "b :- a.\n"
     ]
    }
   ],
   "source": [
    "! python aspif/aspif-pretty-printer.py --text example0.lp"
   ]
  },
  {
   "cell_type": "markdown",
   "metadata": {},
   "source": [
    "The clingo package contains the tool `lpconvert`, that is similar to our script `aspif-pretty-printer.py`:"
   ]
  },
  {
   "cell_type": "code",
   "execution_count": 7,
   "metadata": {},
   "outputs": [
    {
     "name": "stdout",
     "output_type": "stream",
     "text": [
      "{a}.\n",
      "b :- a.\n"
     ]
    }
   ],
   "source": [
    "! clingo example0.lp --mode=gringo | lpconvert --text"
   ]
  },
  {
   "cell_type": "markdown",
   "metadata": {},
   "source": [
    "You can find the specification of the aspif language in Appendix B of [1].\n",
    "\n",
    "This is the meaning of each line of the previous aspif file:\n",
    "* `asp 1 0 0` says that the aspif file uses version 1.0.0 of the aspif language.\n",
    "* `1 1 1 1 0 0` represents the choice rule `{ 1 }.`:\n",
    "  - The `1` in the 1st position says that the line represents a rule.\n",
    "  - The `1` in the 2nd position says that the head is a choice.\n",
    "  - The `1` in the 3rd position says that the head has `1` element.\n",
    "  - The `1` in the 4th position says that the first element of the head is the atom `1`.\n",
    "  - The `0` in the 5th position says that the body is a normal body (in contraposition to a weight body).\n",
    "  - The `0` in the 6th position says that the normal body has `0` elements.\n",
    "* `1 0 1 2 0 1 1` represents the normal rule `2 :- 1.`:\n",
    "  - The `1` in the 1st position says that the line represents a rule.\n",
    "  - The `0` in the 2nd position says that the head is not a choice.\n",
    "  - The `1` in the 3rd position says that the head has `1` element.\n",
    "  - The `2` in the 4th position says that the first element of the head is the atom `2`.\n",
    "  - The `0` in the 5th position says that the body is a normal body (in contraposition to a weight body).\n",
    "  - The `1` in the 6th position says that the normal body has `1` element.\n",
    "  - The `1` in the 7th position says that the first element of the body is the atom `2`.\n",
    "* `4 1 a 1 1` represents the show directive `#show a : 1.`:\n",
    "  - The `4` in the 1st position says that the line represents a show directive.\n",
    "  - The `1` in the 2nd position says that the length of the following string is `1` bytes\n",
    "  - The `a` in the 3rd position is the string to be shown.\n",
    "  - The `1` in the 4rd position says that the condition has `1` element.\n",
    "  - The `1` in the 5th position says that the first element of the condition is the atom `1`.\n",
    "* `4 1 b 1 2` represents similarly the show directive `#show b : 2.`.\n",
    "* `0` closes the aspif file.\n"
   ]
  },
  {
   "cell_type": "markdown",
   "metadata": {},
   "source": [
    "There is another example in the file `aspif/example.lp`, where\n",
    "every line is followed by its ground instantiation, generated using option `--text` of the script.\n",
    "We comment it below."
   ]
  },
  {
   "cell_type": "code",
   "execution_count": 12,
   "metadata": {
    "tags": []
   },
   "outputs": [
    {
     "name": "stdout",
     "output_type": "stream",
     "text": [
      "  dom(1..2).\n",
      "% 1. and #show dom(1).\n",
      "% 2. and #show dom(2).\n",
      "\n",
      "  a(X) :- dom(X). \n",
      "% 20. and #show a(1).\n",
      "% 21. and #show a(2).\n",
      "\n",
      "\n",
      "b(X) :- not a(X), dom(X).\n",
      "% \n",
      "\n",
      "  { c(X) } :- dom(X).\n",
      "% { c(1) }.\n",
      "% { c(2) }.\n",
      "\n",
      "  d(X) :- not c(X), dom(X).\n",
      "% d(1) :- not c(1).\n",
      "% d(2) :- not c(2).\n",
      "\n",
      "  e(X); f(X); g(X) :- c(X), d(X), dom(X).\n",
      "% e(1); f(1); g(1) :- d(1), c(1).\n",
      "% e(2); f(2); g(2) :- d(2), c(2).\n",
      "\n",
      "  { e(X); f(X); g(X) } :- c(X), d(X), dom(X).\n",
      "% { e(1); f(1); g(1) } :- d(1), c(1).\n",
      "% { e(2); f(2); g(2) } :- d(2), c(2).\n",
      "\n",
      "h :- d(1), 1 { e(X); f(X) }.\n",
      "% 18 :- 1 { 1:e(1); 1:e(2); 1:f(1); 1:f(2) }.\n",
      "% h :- 18, d(1).\n",
      "\n",
      "i :- d(1), 1 { e(X); f(X) } 1.\n",
      "% 14 :- 1 { 1:e(1); 1:e(2); 1:f(1); 1:f(2) }.\n",
      "% 15 :- 2 { 1:e(1); 1:e(2); 1:f(1); 1:f(2) }.\n",
      "% 16 :- 14, -15.\n",
      "% i :- 16, d(1).\n",
      "\n",
      ":- h, i.\n",
      "% :- i, h.\n",
      "\n",
      "#show (e(X),f(X),g(X)) : e(X), f(X), g(X).\n",
      "% 22 :- e(1), f(1), g(1).\n",
      "% 23 :- e(2), f(2), g(2).\n",
      "% #show (e(1),f(1),g(1)) : 22.\n",
      "% #show (e(2),f(2),g(2)) : 23.\n",
      "\n",
      "  #minimize{ 1@3,X : e(X); 2@3,X : f(X); 3,X : g(X)}.\n",
      "% #minimize{ 3@0:g(1), 3@0:g(2) }.\n",
      "% #minimize{ 2@3:f(1), 2@3:f(2), 1@3:e(1), 1@3:e(2) }.\n",
      "\n",
      "  #external j. [true]\n",
      "% #external j. [true]\n",
      "\n",
      "  #heuristic e(X) : c(X). [1,level]\n",
      "% #heuristic e(1) : c(1). [1@0,level]\n",
      "% #heuristic e(2) : c(2). [1@0,level]\n",
      "\n",
      "  #project e/1.\n",
      "% #project e(1).\n",
      "% #project e(2)."
     ]
    }
   ],
   "source": [
    "! cat aspif/example.lp"
   ]
  },
  {
   "cell_type": "markdown",
   "metadata": {},
   "source": [
    "You can print just the readable ground instantiation running this command:"
   ]
  },
  {
   "cell_type": "code",
   "execution_count": null,
   "metadata": {
    "tags": []
   },
   "outputs": [],
   "source": [
    "! python aspif/aspif-pretty-printer.py --text aspif/example.lp"
   ]
  },
  {
   "cell_type": "markdown",
   "metadata": {},
   "source": [
    "Observe that for the **fact** `dom(1)` we have two lines in the aspif file:\n",
    "* One for the rule without body `1 0 1 1 0 0` that is printed by the script as `1.`\n",
    "* Another for the show statement `4 6 dom(1) 0` that is printed by the script as `#show dom(1)`.\n",
    "\n",
    "Note: clingo with option `--preserve-facts=symtab` would generate the show statement `4 6 dom(1) 1 1` instead of `4 6 dom(1) 0`, \n",
    "i.e., it would preserve the fact `1` in the condition of the show statement."
   ]
  },
  {
   "cell_type": "markdown",
   "metadata": {},
   "source": [
    "The input language of clingo is very rich, but the grounder manages to translate all rules to a very simple format.\n",
    "\n",
    "There are only two types of rules. Here, we call them **common** rules and **weight** rules. \n",
    "\n",
    "**Common** rules have a normal body, \n",
    "and have in the head a set of atoms, that can be interpreted as a choice or as a disjunction.\n",
    "* A disjunction with a single atom is a normal head. \n",
    "For example, the ground instance `d(1) :- not c(1).` \n",
    "has a normal head `d(1)` that can be seen as a disjunction over the elements of the set `{d(1)}`.\n",
    "* An empty disjunction is an empty head, in which case the normal rule is an integrity constraint, for example, `:- i, h.`.\n",
    "\n",
    "In the usual terminology:\n",
    "* a disjunctive rule is a common rule with a disjunction in the head,\n",
    "* a normal rule is a common rule with a normal head (i.e., with a disjunction with a single atom),\n",
    "* an integrity constraint is a common rule with an empty head, and\n",
    "* a choice rule is a common rule with a choice in the head.\n",
    "\n",
    "**Weight** rules have a weight body, where the weights are positive integers; and have a unique atom as their head.\n",
    "\n",
    "*Note*: the aspif format also allows weight rules with heads that consist of choices or disjunctions over many atoms, \n",
    "but those are never generated by *clingo* (5.7.0).\n",
    "\n",
    "See how the rule\n",
    "* ```i :- 1 { e(X); f(X) } 1.```\n",
    "\n",
    "is not grounded directly to \n",
    "* ```i :- 1 { 1:e(1); 1:e(2); 1:f(1); 1:f(2) } 1.```\n",
    "\n",
    "but is grounded to\n",
    "* `14 :- 1 { 1:e(1); 1:e(2); 1:f(1); 1:f(2) }.`\n",
    "* `15 :- 2 { 1:e(1); 1:e(2); 1:f(1); 1:f(2) }.`\n",
    "* `16 :- 14, -15.`\n",
    "* `i :- 16.`\n",
    "\n",
    "to fit into those types of rules. \n",
    "\n",
    "The last two rules could have been translated directly into `i :- 14, -15.`. \n",
    "The preprocessor of clasp (the solver inside clingo) does that kind of simplifications.\n",
    "\n",
    "We do not dwelve here into the clingo directives `#show`, `#minimize`, etc."
   ]
  },
  {
   "cell_type": "markdown",
   "metadata": {},
   "source": [
    "## Reifying a simple example\n"
   ]
  },
  {
   "cell_type": "markdown",
   "metadata": {},
   "source": [
    "Let us start with a simple program:"
   ]
  },
  {
   "cell_type": "code",
   "execution_count": 9,
   "metadata": {},
   "outputs": [
    {
     "name": "stdout",
     "output_type": "stream",
     "text": [
      "Writing example1.lp\n"
     ]
    }
   ],
   "source": [
    "%%file example1.lp\n",
    "{a}.\n",
    "#show."
   ]
  },
  {
   "cell_type": "markdown",
   "metadata": {},
   "source": [
    "We ground it:"
   ]
  },
  {
   "cell_type": "code",
   "execution_count": 10,
   "metadata": {},
   "outputs": [
    {
     "name": "stdout",
     "output_type": "stream",
     "text": [
      "asp 1 0 0\n",
      "1 1 1 1 0 0\n",
      "0\n"
     ]
    }
   ],
   "source": [
    "! clingo --mode=gringo example1.lp"
   ]
  },
  {
   "cell_type": "markdown",
   "metadata": {},
   "source": [
    "We pretty print the ground instantation:"
   ]
  },
  {
   "cell_type": "code",
   "execution_count": 11,
   "metadata": {},
   "outputs": [
    {
     "name": "stdout",
     "output_type": "stream",
     "text": [
      "{ 1 }.\n"
     ]
    }
   ],
   "source": [
    "! python aspif/aspif-pretty-printer.py example1.lp"
   ]
  },
  {
   "cell_type": "markdown",
   "metadata": {},
   "source": [
    "And now we reify it:"
   ]
  },
  {
   "cell_type": "code",
   "execution_count": 12,
   "metadata": {},
   "outputs": [
    {
     "name": "stdout",
     "output_type": "stream",
     "text": [
      "atom_tuple(0).\n",
      "atom_tuple(0,1).\n",
      "literal_tuple(0).\n",
      "rule(choice(0),normal(0)).\n"
     ]
    }
   ],
   "source": [
    "! clingo example1.lp --output=reify"
   ]
  },
  {
   "cell_type": "markdown",
   "metadata": {},
   "source": [
    "These facts represent the line `1 1 1 1 0 0` of the ground instantiation (or `{ 1 }.`), by saying that:\n",
    "* there is a choice rule whose head is the atom tuple `0` and whose body is the literal tuple `0`,\n",
    "* the atom tuple `0` has the element `1`, and\n",
    "* the literal tuple `0` has no elements."
   ]
  },
  {
   "cell_type": "markdown",
   "metadata": {},
   "source": [
    "If we eliminate the `#show.` directive then the atom `a` will be shown:"
   ]
  },
  {
   "cell_type": "code",
   "execution_count": 13,
   "metadata": {},
   "outputs": [
    {
     "name": "stdout",
     "output_type": "stream",
     "text": [
      "Writing example2.lp\n"
     ]
    }
   ],
   "source": [
    "%%file example2.lp\n",
    "{ a }."
   ]
  },
  {
   "cell_type": "code",
   "execution_count": 14,
   "metadata": {},
   "outputs": [
    {
     "name": "stdout",
     "output_type": "stream",
     "text": [
      "asp 1 0 0\n",
      "1 1 1 1 0 0\n",
      "4 1 a 1 1\n",
      "0\n"
     ]
    }
   ],
   "source": [
    "! clingo --mode=gringo example2.lp"
   ]
  },
  {
   "cell_type": "code",
   "execution_count": 15,
   "metadata": {},
   "outputs": [
    {
     "name": "stdout",
     "output_type": "stream",
     "text": [
      "{ 1 }.\n",
      "#show a : 1.\n"
     ]
    }
   ],
   "source": [
    "! python aspif/aspif-pretty-printer.py example2.lp"
   ]
  },
  {
   "cell_type": "code",
   "execution_count": 16,
   "metadata": {},
   "outputs": [
    {
     "name": "stdout",
     "output_type": "stream",
     "text": [
      "atom_tuple(0).\n",
      "atom_tuple(0,1).\n",
      "literal_tuple(0).\n",
      "rule(choice(0),normal(0)).\n",
      "literal_tuple(1).\n",
      "literal_tuple(1,1).\n",
      "output(a,1).\n"
     ]
    }
   ],
   "source": [
    "! clingo example2.lp --output=reify"
   ]
  },
  {
   "cell_type": "markdown",
   "metadata": {},
   "source": [
    "The last three facts are new, they represent the line `4 1 a 1 1` (or `#show a : 1`) and say that:\n",
    "* there is an output statement whose head is the string `a` and whose condition is the literal tuple `1`, and\n",
    "* the literal tuple `1` consists of the element `1`."
   ]
  },
  {
   "cell_type": "markdown",
   "metadata": {},
   "source": [
    "## The meta encoding"
   ]
  },
  {
   "cell_type": "markdown",
   "metadata": {},
   "source": [
    "In the paper we have seen the meta encoding `meta.lp`:"
   ]
  },
  {
   "cell_type": "code",
   "execution_count": 17,
   "metadata": {},
   "outputs": [
    {
     "name": "stdout",
     "output_type": "stream",
     "text": [
      "Writing meta.lp\n"
     ]
    }
   ],
   "source": [
    "%%file meta.lp\n",
    "\n",
    "conjunction(B) :- literal_tuple(B),\n",
    "        hold(L) : literal_tuple(B, L), L > 0;\n",
    "    not hold(L) : literal_tuple(B,-L), L > 0.\n",
    "\n",
    "body(normal(B)) :- rule(_,normal(B)), conjunction(B).\n",
    "body(sum(B,G))  :- rule(_,sum(B,G)),\n",
    "    #sum { W,L :     hold(L), weighted_literal_tuple(B, L,W), L > 0 ;\n",
    "           W,L : not hold(L), weighted_literal_tuple(B,-L,W), L > 0 } >= G.\n",
    "\n",
    "  hold(A) : atom_tuple(H,A)   :- rule(disjunction(H),B), body(B).\n",
    "{ hold(A) : atom_tuple(H,A) } :- rule(     choice(H),B), body(B).\n",
    "\n",
    "#show.\n",
    "#show T : output(T,B), conjunction(B)."
   ]
  },
  {
   "cell_type": "markdown",
   "metadata": {},
   "source": [
    "Here, we start with a simpler version of it."
   ]
  },
  {
   "cell_type": "code",
   "execution_count": 18,
   "metadata": {},
   "outputs": [
    {
     "name": "stdout",
     "output_type": "stream",
     "text": [
      "Writing meta-simple.lp\n"
     ]
    }
   ],
   "source": [
    "%%file meta-simple.lp\n",
    "\n",
    "conjunction(B) :- literal_tuple(B),\n",
    "        hold(L) : literal_tuple(B, L), L > 0;\n",
    "    not hold(L) : literal_tuple(B,-L), L > 0.\n",
    "\n",
    "  hold(A) : atom_tuple(H,A)   :- rule(disjunction(H),normal(B)), conjunction(B).\n",
    "{ hold(A) : atom_tuple(H,A) } :- rule(     choice(H),normal(B)), conjunction(B).\n",
    "\n",
    "#show.\n",
    "#show T : output(T,B), not literal_tuple(B,_).\n",
    "#show T : output(T,B),     literal_tuple(B,L), hold(L)."
   ]
  },
  {
   "cell_type": "markdown",
   "metadata": {},
   "source": [
    "This simpler version does not consider weight rules. \n",
    "Given this, the rules for `hold(A)` refer to whether a `normal` body `B` holds using directly the predicate `conjunction`.\n",
    "\n",
    "This simpler version represents differently the `#show` directives.\n",
    "It considers separately the two cases that may happen with programs generated by clingo using option `--output=reify`:\n",
    "* either we have `output(T,B)` and `B` has no literals,\n",
    "* or we have `output(T,B)` and `B` has a unique positive literal.\n",
    "\n",
    "We use this representation because it is easier to modify in the exercises."
   ]
  },
  {
   "cell_type": "markdown",
   "metadata": {},
   "source": [
    "We can try `meta-simple.lp` with our two previous examples. \n",
    "\n",
    "Option `-Wnone` eliminates some warnings generated by clingo.\n",
    "\n",
    "As expected, we obtain two answers for each example. The answers of the first example are empty because nothing is shown in that program."
   ]
  },
  {
   "cell_type": "code",
   "execution_count": 19,
   "metadata": {},
   "outputs": [
    {
     "name": "stdout",
     "output_type": "stream",
     "text": [
      "\n",
      "\n",
      "SATISFIABLE\n"
     ]
    }
   ],
   "source": [
    "! clingo example1.lp --output=reify | clingo - meta-simple.lp 0 -Wnone -V0"
   ]
  },
  {
   "cell_type": "code",
   "execution_count": 20,
   "metadata": {},
   "outputs": [
    {
     "name": "stdout",
     "output_type": "stream",
     "text": [
      "\n",
      "a\n",
      "SATISFIABLE\n"
     ]
    }
   ],
   "source": [
    "! clingo example2.lp --output=reify | clingo - meta-simple.lp 0 -Wnone -V0"
   ]
  },
  {
   "cell_type": "markdown",
   "metadata": {},
   "source": [
    "### Exercise 1 \n",
    "In the next cell, write a modification of `meta-simple.lp` that interprets the choice rules as normal rules.\n"
   ]
  },
  {
   "cell_type": "code",
   "execution_count": 21,
   "metadata": {},
   "outputs": [
    {
     "name": "stdout",
     "output_type": "stream",
     "text": [
      "Writing meta-simple-ex1.lp\n"
     ]
    }
   ],
   "source": [
    "%%file meta-simple-ex1.lp\n",
    "\n",
    "conjunction(B) :- literal_tuple(B),\n",
    "        hold(L) : literal_tuple(B, L), L > 0;\n",
    "    not hold(L) : literal_tuple(B,-L), L > 0.\n",
    "\n",
    "  hold(A) : atom_tuple(H,A)   :- rule(disjunction(H),normal(B)), conjunction(B).\n",
    "{ hold(A) : atom_tuple(H,A) } :- rule(     choice(H),normal(B)), conjunction(B).\n",
    "\n",
    "#show.\n",
    "#show T : output(T,B), not literal_tuple(B,_).\n",
    "#show T : output(T,B),     literal_tuple(B,L), hold(L)."
   ]
  },
  {
   "cell_type": "markdown",
   "metadata": {},
   "source": [
    "Once you have modified the program, the next cell should return a unique answer set that contains the atom `a`."
   ]
  },
  {
   "cell_type": "code",
   "execution_count": 22,
   "metadata": {},
   "outputs": [
    {
     "name": "stdout",
     "output_type": "stream",
     "text": [
      "\n",
      "a\n",
      "SATISFIABLE\n"
     ]
    }
   ],
   "source": [
    "! clingo example2.lp --output=reify | clingo - meta-simple-ex1.lp 0 -Wnone -V0"
   ]
  },
  {
   "cell_type": "markdown",
   "metadata": {},
   "source": [
    "Now, modify the `#show` statements of `meta-simple-ex1.lp` in such a way that atoms `T` are shown as `true(T)`.\n",
    "\n",
    "Once this is done, running the previous cell you should obtain a unique answer set with `true(a)`."
   ]
  },
  {
   "cell_type": "markdown",
   "metadata": {},
   "source": [
    "## Extending the example"
   ]
  },
  {
   "cell_type": "markdown",
   "metadata": {},
   "source": [
    "Consider now the following logic program:"
   ]
  },
  {
   "cell_type": "code",
   "execution_count": 23,
   "metadata": {},
   "outputs": [
    {
     "name": "stdout",
     "output_type": "stream",
     "text": [
      "Writing example3.lp\n"
     ]
    }
   ],
   "source": [
    "%%file example3.lp\n",
    "{a}.\n",
    " b :- a."
   ]
  },
  {
   "cell_type": "code",
   "execution_count": 24,
   "metadata": {},
   "outputs": [
    {
     "name": "stdout",
     "output_type": "stream",
     "text": [
      "asp 1 0 0\n",
      "1 1 1 1 0 0\n",
      "1 0 1 2 0 1 1\n",
      "4 1 a 1 1\n",
      "4 1 b 1 2\n",
      "0\n"
     ]
    }
   ],
   "source": [
    "! clingo example3.lp --mode=gringo"
   ]
  },
  {
   "cell_type": "code",
   "execution_count": 25,
   "metadata": {},
   "outputs": [
    {
     "name": "stdout",
     "output_type": "stream",
     "text": [
      "{ 1 }.\n",
      "2 :- 1.\n",
      "#show a : 1.\n",
      "#show b : 2.\n"
     ]
    }
   ],
   "source": [
    "! python aspif/aspif-pretty-printer.py example3.lp"
   ]
  },
  {
   "cell_type": "code",
   "execution_count": 26,
   "metadata": {
    "scrolled": true
   },
   "outputs": [
    {
     "name": "stdout",
     "output_type": "stream",
     "text": [
      "atom_tuple(0).\n",
      "atom_tuple(0,1).\n",
      "literal_tuple(0).\n",
      "rule(choice(0),normal(0)).\n",
      "atom_tuple(1).\n",
      "atom_tuple(1,2).\n",
      "literal_tuple(1).\n",
      "literal_tuple(1,1).\n",
      "rule(disjunction(1),normal(1)).\n",
      "output(a,1).\n",
      "literal_tuple(2).\n",
      "literal_tuple(2,2).\n",
      "output(b,2).\n"
     ]
    }
   ],
   "source": [
    "! clingo example3.lp --output=reify"
   ]
  },
  {
   "cell_type": "markdown",
   "metadata": {},
   "source": [
    "As before, the first four facts represent the choice rule `1 1 1 1 0 0` (or `{ 1 }.`).\n",
    "\n",
    "The next ones\n",
    "```\n",
    "atom_tuple(1).\n",
    "atom_tuple(1,2).\n",
    "literal_tuple(1).\n",
    "literal_tuple(1,1).\n",
    "rule(disjunction(1),normal(1)).\n",
    "```\n",
    "represent the normal rule `1 0 1 2 0 1 1` (or `2 :- 1.`).\n",
    "\n",
    "The fact\n",
    "```\n",
    "output(a,1).\n",
    "```\n",
    "together with the previous facts \n",
    "```\n",
    "literal_tuple(1).\n",
    "literal_tuple(1,1).\n",
    "```\n",
    "represents the directive `4 1 a 1 1` (or `#show a : 1.`).\n",
    "\n",
    "And \n",
    "```\n",
    "literal_tuple(2).\n",
    "literal_tuple(2,2).\n",
    "output(b,2).\n",
    "```\n",
    "represents the directive `4 1 b 1 2` (or `#show b : 2.`)."
   ]
  },
  {
   "cell_type": "markdown",
   "metadata": {},
   "source": [
    "We compute the answer sets of `example3.lp`: `{}` and `{a,b}`."
   ]
  },
  {
   "cell_type": "code",
   "execution_count": 27,
   "metadata": {},
   "outputs": [
    {
     "name": "stdout",
     "output_type": "stream",
     "text": [
      "\n",
      "a b\n",
      "SATISFIABLE\n"
     ]
    }
   ],
   "source": [
    "! clingo example3.lp --output=reify | clingo - meta-simple.lp 0 -V0"
   ]
  },
  {
   "cell_type": "markdown",
   "metadata": {},
   "source": [
    "### Exercise 2\n",
    "In the next cell, write a modification of `meta-simple.lp` that:\n",
    "* interprets choice rules as normal rules, and normal rules as choice rules, and\n",
    "* interprets positive literals in the body as negative literals, and negative literals in the body as positive literals.\n",
    "\n",
    "Under this interpretation, `example3.lp` becomes:\n",
    "```\n",
    "a.\n",
    "{b} :- not a.\n",
    "```\n",
    "and leads to the unique answer set `{a}`."
   ]
  },
  {
   "cell_type": "code",
   "execution_count": 28,
   "metadata": {},
   "outputs": [
    {
     "name": "stdout",
     "output_type": "stream",
     "text": [
      "Writing meta-simple-ex2.lp\n"
     ]
    }
   ],
   "source": [
    "%%file meta-simple-ex2.lp\n",
    "\n",
    "conjunction(B) :- literal_tuple(B),\n",
    "        hold(L) : literal_tuple(B, L), L > 0;\n",
    "    not hold(L) : literal_tuple(B,-L), L > 0.\n",
    "\n",
    "  hold(A) : atom_tuple(H,A)   :- rule(disjunction(H),normal(B)), conjunction(B).\n",
    "{ hold(A) : atom_tuple(H,A) } :- rule(     choice(H),normal(B)), conjunction(B).\n",
    "\n",
    "#show.\n",
    "#show T : output(T,B), not literal_tuple(B,_).\n",
    "#show T : output(T,B),     literal_tuple(B,L), hold(L)."
   ]
  },
  {
   "cell_type": "markdown",
   "metadata": {},
   "source": [
    "The next cell should return the unique answer set `{a}`."
   ]
  },
  {
   "cell_type": "code",
   "execution_count": 29,
   "metadata": {},
   "outputs": [
    {
     "name": "stdout",
     "output_type": "stream",
     "text": [
      "\n",
      "a b\n",
      "SATISFIABLE\n"
     ]
    }
   ],
   "source": [
    "! clingo example3.lp --output=reify | clingo - meta-simple-ex2.lp 0 -V0"
   ]
  },
  {
   "cell_type": "markdown",
   "metadata": {},
   "source": [
    "### Exercise 3\n",
    "In the next cell, write a modification of `meta-simple.lp` such that:\n",
    "* if a rule has some literals in its body, then the body is interpreted as a disjunction of literals, and *not* as a conjunction of literals."
   ]
  },
  {
   "cell_type": "markdown",
   "metadata": {},
   "source": [
    "Consider the program `example4.lp`:"
   ]
  },
  {
   "cell_type": "code",
   "execution_count": 30,
   "metadata": {},
   "outputs": [
    {
     "name": "stdout",
     "output_type": "stream",
     "text": [
      "Writing example4.lp\n"
     ]
    }
   ],
   "source": [
    "%%file example4.lp\n",
    "{a;b}.\n",
    "c :- a,b."
   ]
  },
  {
   "cell_type": "markdown",
   "metadata": {},
   "source": [
    "Under this interpretation, this program becomes:\n",
    "```\n",
    "{a;b}.\n",
    "c :- a.\n",
    "c :- b.\n",
    "```\n",
    "and leads to four answer sets: `{}`, `{a,c}`, `{b,c}`, and `{a,b,c}`.\n",
    "\n",
    "Note that the modification should only apply to bodies that contain some literal."
   ]
  },
  {
   "cell_type": "code",
   "execution_count": 31,
   "metadata": {},
   "outputs": [
    {
     "name": "stdout",
     "output_type": "stream",
     "text": [
      "Writing meta-simple-ex3.lp\n"
     ]
    }
   ],
   "source": [
    "%%file meta-simple-ex3.lp\n",
    "\n",
    "conjunction(B) :- literal_tuple(B),\n",
    "        hold(L) : literal_tuple(B, L), L > 0;\n",
    "    not hold(L) : literal_tuple(B,-L), L > 0.\n",
    "\n",
    "  hold(A) : atom_tuple(H,A)   :- rule(disjunction(H),normal(B)), conjunction(B).\n",
    "{ hold(A) : atom_tuple(H,A) } :- rule(     choice(H),normal(B)), conjunction(B).\n",
    "\n",
    "#show.\n",
    "#show T : output(T,B), not literal_tuple(B,_).\n",
    "#show T : output(T,B),     literal_tuple(B,L), hold(L)."
   ]
  },
  {
   "cell_type": "markdown",
   "metadata": {},
   "source": [
    "The next cell should return the answer sets `{}`, `{a,c}`, `{b,c}`, and `{a,b,c}`."
   ]
  },
  {
   "cell_type": "code",
   "execution_count": 32,
   "metadata": {},
   "outputs": [
    {
     "name": "stdout",
     "output_type": "stream",
     "text": [
      "a b c\n",
      "\n",
      "b\n",
      "a\n",
      "SATISFIABLE\n"
     ]
    }
   ],
   "source": [
    "! clingo example4.lp --output=reify | clingo - meta-simple-ex3.lp 0 -V0"
   ]
  },
  {
   "cell_type": "markdown",
   "metadata": {},
   "source": [
    "## An issue"
   ]
  },
  {
   "cell_type": "markdown",
   "metadata": {},
   "source": [
    "Let us go back to Exercise 2, and consider the program `example5.lp`:"
   ]
  },
  {
   "cell_type": "code",
   "execution_count": 33,
   "metadata": {},
   "outputs": [
    {
     "name": "stdout",
     "output_type": "stream",
     "text": [
      "Writing example5.lp\n"
     ]
    }
   ],
   "source": [
    "%%file example5.lp\n",
    "a.\n",
    "b :- not a."
   ]
  },
  {
   "cell_type": "markdown",
   "metadata": {},
   "source": [
    "In Exercise 2, this should be interpreted as:\n",
    "```\n",
    "{a}.\n",
    "{b} :- a.\n",
    "```\n",
    "and lead to three answer sets: `{}`, `{a}`, and `{a,b}`.\n",
    "\n",
    "Let's see what do we obtain with the meta-encoding of Exercise 2:"
   ]
  },
  {
   "cell_type": "code",
   "execution_count": 34,
   "metadata": {},
   "outputs": [
    {
     "name": "stdout",
     "output_type": "stream",
     "text": [
      "meta-simple-ex2.lp:3:19-38: info: atom does not occur in any rule head:\n",
      "  literal_tuple(B,L)\n",
      "\n",
      "meta-simple-ex2.lp:4:19-38: info: atom does not occur in any rule head:\n",
      "  literal_tuple(B,(-L))\n",
      "\n",
      "meta-simple-ex2.lp:10:28-46: info: atom does not occur in any rule head:\n",
      "  literal_tuple(#X0,#P1)\n",
      "\n",
      "meta-simple-ex2.lp:11:28-46: info: atom does not occur in any rule head:\n",
      "  literal_tuple(B,L)\n",
      "\n",
      "a\n",
      "SATISFIABLE\n"
     ]
    }
   ],
   "source": [
    "! clingo example5.lp --output=reify | clingo - meta-simple-ex2.lp 0 -V0"
   ]
  },
  {
   "cell_type": "markdown",
   "metadata": {},
   "source": [
    "As you should see, using the meta-encoding of Exercise 2 we still obtain the unique answer set `{a}`: how is this possible? \n",
    "\n",
    "The warnings printed by clingo give us a clue on this.\n",
    "They tell us that the atoms of `literal_tuple(B,L)` do not occur in any head.\n",
    "\n",
    "Let us have a look at the ground instantiation and the reification of `example5.lp`:"
   ]
  },
  {
   "cell_type": "code",
   "execution_count": 35,
   "metadata": {},
   "outputs": [
    {
     "name": "stdout",
     "output_type": "stream",
     "text": [
      "asp 1 0 0\n",
      "1 0 1 1 0 0\n",
      "4 1 a 0\n",
      "0\n"
     ]
    }
   ],
   "source": [
    "! clingo example5.lp --mode=gringo"
   ]
  },
  {
   "cell_type": "code",
   "execution_count": 36,
   "metadata": {},
   "outputs": [
    {
     "name": "stdout",
     "output_type": "stream",
     "text": [
      "1.\n",
      "#show a.\n"
     ]
    }
   ],
   "source": [
    "! python aspif/aspif-pretty-printer.py example5.lp"
   ]
  },
  {
   "cell_type": "code",
   "execution_count": 37,
   "metadata": {},
   "outputs": [
    {
     "name": "stdout",
     "output_type": "stream",
     "text": [
      "atom_tuple(0).\n",
      "atom_tuple(0,1).\n",
      "literal_tuple(0).\n",
      "rule(disjunction(0),normal(0)).\n",
      "output(a,0).\n"
     ]
    }
   ],
   "source": [
    "! clingo example5.lp --output=reify"
   ]
  },
  {
   "cell_type": "markdown",
   "metadata": {},
   "source": [
    "Observe that there is a fact `literal_tuple(0)` but no facts `literal_tuple(0,_)`. \n",
    "In this way, `0` refers to the empty body.\n",
    "\n",
    "What happened here? \n",
    "* The grounder component of clingo first prints the fact `a.` as `1.`\n",
    "* Then it handles the rule `b :- not a`.\n",
    "* But instead of generating `2 :- -1`, it knows that `a` is a fact, and therefore the body of the rule will never be applicable, so it simply skips the rule.\n",
    "* Then, when printing the `#show` directives, the grounder knows that `a` is a fact and prints it directly as \n",
    "`#show a.`\n",
    "\n",
    "Observe how, in the reified program, there is no trace of the original rule `b :- not a`.\n",
    "Hence, there is nothing we can do in our meta-encoding to interpret this rule differently.\n",
    "\n",
    "There are some ways to overcome this issue, using `#external` directives, for example.\n",
    "But we will not dwelve on them here.\n",
    "\n",
    "We just have to remember that\n",
    "* **the meta-encoding is applied to the ground instantiation, not to the original clingo program with variables**."
   ]
  },
  {
   "cell_type": "markdown",
   "metadata": {},
   "source": [
    "## Weight rules\n",
    "\n",
    "Consider the program `example6.lp`:"
   ]
  },
  {
   "cell_type": "code",
   "execution_count": 38,
   "metadata": {},
   "outputs": [
    {
     "name": "stdout",
     "output_type": "stream",
     "text": [
      "Writing example6.lp\n"
     ]
    }
   ],
   "source": [
    "%%file example6.lp\n",
    "{a;b;c;d}.\n",
    "e :- a, 30 #sum{ 20:b; 30:c; 40:d }.\n",
    ":- not e."
   ]
  },
  {
   "cell_type": "markdown",
   "metadata": {},
   "source": [
    "You can reify it using the following command, but instead of doing that, please jump over the cell and have a look at the commented version below."
   ]
  },
  {
   "cell_type": "code",
   "execution_count": null,
   "metadata": {
    "scrolled": true
   },
   "outputs": [],
   "source": [
    "! clingo example6.lp --output=reify"
   ]
  },
  {
   "cell_type": "code",
   "execution_count": 40,
   "metadata": {},
   "outputs": [
    {
     "name": "stdout",
     "output_type": "stream",
     "text": [
      "Writing example6-reified.lp\n"
     ]
    }
   ],
   "source": [
    "%%file example6-reified.lp\n",
    "\n",
    "% { 1; 2; 3; 4}.\n",
    "atom_tuple(0).\n",
    "atom_tuple(0,1).\n",
    "atom_tuple(0,2).\n",
    "atom_tuple(0,3).\n",
    "atom_tuple(0,4).\n",
    "literal_tuple(0).\n",
    "rule(choice(0),normal(0)).\n",
    "\n",
    "% 5 :- 30 { 20:2; 30:3; 40:4 }.\n",
    "atom_tuple(1).\n",
    "atom_tuple(1,5).\n",
    "weighted_literal_tuple(0).\n",
    "weighted_literal_tuple(0,2,20).\n",
    "weighted_literal_tuple(0,3,30).\n",
    "weighted_literal_tuple(0,4,40).\n",
    "rule(disjunction(1),sum(0,30)).\n",
    "\n",
    "% 6 :- 1, 5.\n",
    "atom_tuple(2).\n",
    "atom_tuple(2,6).\n",
    "literal_tuple(1).\n",
    "literal_tuple(1,5).\n",
    "literal_tuple(1,1).\n",
    "rule(disjunction(2),normal(1)).\n",
    "\n",
    "% :- not 6.\n",
    "atom_tuple(3).\n",
    "literal_tuple(2).\n",
    "literal_tuple(2,-6).\n",
    "rule(disjunction(3),normal(2)).\n",
    "\n",
    "% #show a : 1.\n",
    "literal_tuple(3).\n",
    "literal_tuple(3,1).\n",
    "output(a,3).\n",
    "\n",
    "% #show b : 2.\n",
    "literal_tuple(4).\n",
    "literal_tuple(4,2).\n",
    "output(b,4).\n",
    "\n",
    "% #show c : 3.\n",
    "literal_tuple(5).\n",
    "literal_tuple(5,3).\n",
    "output(c,5).\n",
    "\n",
    "% #show d : 4.\n",
    "literal_tuple(6).\n",
    "literal_tuple(6,4).\n",
    "output(d,6).\n",
    "\n",
    "% #show e : 6.\n",
    "literal_tuple(7).\n",
    "literal_tuple(7,6).\n",
    "output(e,7)."
   ]
  },
  {
   "cell_type": "markdown",
   "metadata": {},
   "source": [
    "Observe how the rule \n",
    "```\n",
    "e :- a, 30 #sum{ 20:b; 30:c; 40:d }.\n",
    "```\n",
    "is separated in two parts.\n",
    "\n",
    "One part defines the aggregate using an auxiliary atom numbered `5`:\n",
    "```\n",
    "5 :- 30 { 20:2; 30:3; 40:4 }.\n",
    "```\n",
    "and another handles the rule using that auxiliary atom:\n",
    "```\n",
    "6 :- 1, 5.\n",
    "```\n"
   ]
  },
  {
   "cell_type": "markdown",
   "metadata": {},
   "source": [
    "### Exercise 4\n",
    "\n",
    "In the next cell, modify the meta-encoding to fix the weights of weight rules to the value of `10`.\n",
    "\n",
    "Under this interpretation, program `example6.lp` becomes:\n",
    "```\n",
    "{a;b;c;d}.\n",
    "e :- a, 30 #sum{ 10:b; 10:c; 10:d }.\n",
    ":- not e.\n",
    "```\n",
    "and has a unique answer set `{a,b,c,d,e}`."
   ]
  },
  {
   "cell_type": "code",
   "execution_count": 41,
   "metadata": {},
   "outputs": [
    {
     "name": "stdout",
     "output_type": "stream",
     "text": [
      "Writing meta-ex4.lp\n"
     ]
    }
   ],
   "source": [
    "%%file meta-ex4.lp \n",
    "\n",
    "conjunction(B) :- literal_tuple(B),\n",
    "        hold(L) : literal_tuple(B, L), L > 0;\n",
    "    not hold(L) : literal_tuple(B,-L), L > 0.\n",
    "\n",
    "body(normal(B)) :- rule(_,normal(B)), conjunction(B).\n",
    "body(sum(B,G))  :- rule(_,sum(B,G)),\n",
    "    #sum { W,L :     hold(L), weighted_literal_tuple(B, L,W), L > 0 ;\n",
    "           W,L : not hold(L), weighted_literal_tuple(B,-L,W), L > 0 } >= G.\n",
    "\n",
    "  hold(A) : atom_tuple(H,A)   :- rule(disjunction(H),B), body(B).\n",
    "{ hold(A) : atom_tuple(H,A) } :- rule(     choice(H),B), body(B).\n",
    "\n",
    "#show.\n",
    "#show T : output(T,B), conjunction(B)."
   ]
  },
  {
   "cell_type": "markdown",
   "metadata": {},
   "source": [
    "The following command should lead to the unique answer set `{a,b,c,d,e`}."
   ]
  },
  {
   "cell_type": "code",
   "execution_count": 42,
   "metadata": {},
   "outputs": [
    {
     "name": "stdout",
     "output_type": "stream",
     "text": [
      "a d e\n",
      "a d b e\n",
      "a c e\n",
      "a c b e\n",
      "a d c e\n",
      "a d c b e\n",
      "SATISFIABLE\n"
     ]
    }
   ],
   "source": [
    "! clingo example6.lp --output=reify | clingo - meta-ex4.lp 0 -V0"
   ]
  },
  {
   "cell_type": "markdown",
   "metadata": {},
   "source": [
    "To finish the exercise, modify again the meta-encoding in such a way that the lower bound for weight rules is always `100`. One this is done, the previous cell should return no answer set."
   ]
  },
  {
   "cell_type": "markdown",
   "metadata": {},
   "source": [
    "## Relaxing integrity constraints"
   ]
  },
  {
   "cell_type": "markdown",
   "metadata": {},
   "source": [
    "A logic program may have zero, one or many answer sets. \n",
    "If the program has zero answer sets, we may want to recover part of its *partial* answer sets. \n",
    "\n",
    "This is specially useful whenever we are debugging an incorrect program \n",
    "that has no answer sets, since in this case the `UNSATISFIABLE` result provided by clingo\n",
    "tells us nothing about why that program is unsatisfiable.\n",
    "\n",
    "One way of recovering *partial* answer sets of an unsatisfiable logic program \n",
    "is to relax the integrity constraints of the program.\n",
    "Instead of requiring that no integrity constraint is violated, \n",
    "we require that the least number of integrity constraints is violated.\n",
    "\n",
    "For example, consider the program `example7.lp`, that has no answer sets:"
   ]
  },
  {
   "cell_type": "code",
   "execution_count": 43,
   "metadata": {},
   "outputs": [
    {
     "name": "stdout",
     "output_type": "stream",
     "text": [
      "Writing example7.lp\n"
     ]
    }
   ],
   "source": [
    "%%file example7.lp\n",
    "{ a(1); a(2) }.\n",
    ":- 1 { a(X) }.\n",
    ":-   { a(X) } 1.\n",
    "#show a/1."
   ]
  },
  {
   "cell_type": "code",
   "execution_count": 44,
   "metadata": {},
   "outputs": [
    {
     "name": "stdout",
     "output_type": "stream",
     "text": [
      "UNSATISFIABLE\n"
     ]
    }
   ],
   "source": [
    "! clingo example7.lp -V0"
   ]
  },
  {
   "cell_type": "markdown",
   "metadata": {},
   "source": [
    "We would like to intepret the program as this one:"
   ]
  },
  {
   "cell_type": "code",
   "execution_count": 45,
   "metadata": {},
   "outputs": [
    {
     "name": "stdout",
     "output_type": "stream",
     "text": [
      "Writing example7-relaxed.lp\n"
     ]
    }
   ],
   "source": [
    "%%file example7-relaxed.lp\n",
    "{ a(1); a(2) }.\n",
    "violated(ic1) :- 1 { a(X) }.\n",
    "violated(ic2) :-   { a(X) } 1.\n",
    ":~ violated(R). [1,R]\n",
    "#show a/1.\n",
    "#show violated/1."
   ]
  },
  {
   "cell_type": "markdown",
   "metadata": {},
   "source": [
    "We can enumerate all optimal solutions with option `0 --opt-mode=optN`."
   ]
  },
  {
   "cell_type": "code",
   "execution_count": 46,
   "metadata": {},
   "outputs": [
    {
     "name": "stdout",
     "output_type": "stream",
     "text": [
      "violated(ic2)\n",
      "Optimization: 1\n",
      "violated(ic2)\n",
      "Optimization: 1\n",
      "a(1) a(2) violated(ic1)\n",
      "Optimization: 1\n",
      "OPTIMUM FOUND\n"
     ]
    }
   ],
   "source": [
    "! clingo example7-relaxed.lp 0 --opt-mode=optN -V0"
   ]
  },
  {
   "cell_type": "markdown",
   "metadata": {},
   "source": [
    "This gives us two optimal solutions of cost 1: `{violated(ic2)}` and `{a(1), a(2), violated(ic1)}`.\n",
    "\n",
    "The first answer is printed twice: \n",
    "first when it is found, \n",
    "and second when all optimal solutions are enumerated.\n",
    "\n",
    "The `violated(R)` atoms indicate which integrity constraints where violated.\n",
    "\n",
    "As can be seen, each optimal solution violated exactly one integrity constraint."
   ]
  },
  {
   "cell_type": "markdown",
   "metadata": {},
   "source": [
    "### Exercise 5.\n",
    "\n",
    "In the next cell, modify `meta.lp` to relax the integrity constraints, as we did in the previous example:"
   ]
  },
  {
   "cell_type": "code",
   "execution_count": 47,
   "metadata": {},
   "outputs": [
    {
     "name": "stdout",
     "output_type": "stream",
     "text": [
      "Writing meta-relaxed.lp\n"
     ]
    }
   ],
   "source": [
    "%%file meta-relaxed.lp\n",
    "\n",
    "conjunction(B) :- literal_tuple(B),\n",
    "        hold(L) : literal_tuple(B, L), L > 0;\n",
    "    not hold(L) : literal_tuple(B,-L), L > 0.\n",
    "\n",
    "body(normal(B)) :- rule(_,normal(B)), conjunction(B).\n",
    "body(sum(B,G))  :- rule(_,sum(B,G)),\n",
    "    #sum { W,L :     hold(L), weighted_literal_tuple(B, L,W), L > 0 ;\n",
    "           W,L : not hold(L), weighted_literal_tuple(B,-L,W), L > 0 } >= G.\n",
    "\n",
    "  hold(A) : atom_tuple(H,A)   :- rule(disjunction(H),B), body(B).\n",
    "{ hold(A) : atom_tuple(H,A) } :- rule(     choice(H),B), body(B).\n",
    "\n",
    "#show.\n",
    "#show T : output(T,B), conjunction(B)."
   ]
  },
  {
   "cell_type": "markdown",
   "metadata": {},
   "source": [
    "The following command should return two optimal solutions, like above with `example7-relaxed.lp`:"
   ]
  },
  {
   "cell_type": "code",
   "execution_count": 48,
   "metadata": {
    "tags": []
   },
   "outputs": [
    {
     "name": "stdout",
     "output_type": "stream",
     "text": [
      "clingo version 5.7.1\n",
      "Reading from - ...\n",
      "Solving...\n",
      "UNSATISFIABLE\n",
      "\n",
      "Models       : 0\n",
      "Calls        : 1\n",
      "Time         : 0.001s (Solving: 0.00s 1st Model: 0.00s Unsat: 0.00s)\n",
      "CPU Time     : 0.001s\n"
     ]
    }
   ],
   "source": [
    "! clingo example7.lp --output=reify | clingo - meta-relaxed.lp 0 --opt-mode=optN"
   ]
  }
 ],
 "metadata": {
  "kernelspec": {
   "display_name": "Python 3 (ipykernel)",
   "language": "python",
   "name": "python3"
  },
  "language_info": {
   "codemirror_mode": {
    "name": "ipython",
    "version": 3
   },
   "file_extension": ".py",
   "mimetype": "text/x-python",
   "name": "python",
   "nbconvert_exporter": "python",
   "pygments_lexer": "ipython3",
   "version": "3.13.3"
  }
 },
 "nbformat": 4,
 "nbformat_minor": 4
}
