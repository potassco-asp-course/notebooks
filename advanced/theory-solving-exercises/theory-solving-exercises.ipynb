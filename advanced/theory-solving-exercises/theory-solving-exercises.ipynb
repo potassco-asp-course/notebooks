{
 "cells": [
  {
   "cell_type": "markdown",
   "id": "02cd4973-2468-492a-b838-2c102f3385be",
   "metadata": {},
   "source": [
    "# Theory Solving Exercises\n",
    "\n",
    "This notebook contains exercises about Theory Solving with the answer set solver *clingo*.\n",
    "\n",
    "Before you start, we recommend you to read sections 6 and 7 of [1].\n",
    "\n",
    "[1] [Kaminski, R., Romero, J., Schaub, T., & Wanko, P. (2023). How to Build Your Own ASP-based System?! Theory Pract. Log. Program., 23(1), 299–361.](https://www.cs.uni-potsdam.de/wv/publications/DBLP_journals/tplp/KaminskiRSW23.pdf)"
   ]
  },
  {
   "cell_type": "markdown",
   "id": "759a7d72-0da5-4fd2-93b0-6a6b76be0df1",
   "metadata": {},
   "source": [
    "# Exercise 1"
   ]
  },
  {
   "cell_type": "markdown",
   "id": "3c0fab6c-b3a9-47b8-843b-d16d1ba80ec9",
   "metadata": {},
   "source": [
    "In this exercise, you have to extend the script [solving.py](solving.py) to:\n",
    "1. Print a table with information about every symbolic atom, and show the initial assignment\n",
    "2. Profile the search of the solver\n",
    "3. Let the user make the decisions of the solver"
   ]
  },
  {
   "cell_type": "markdown",
   "id": "970bae01-0d27-408a-8b49-d9ffaa105b27",
   "metadata": {},
   "source": [
    "Consider this program:"
   ]
  },
  {
   "cell_type": "code",
   "execution_count": 2,
   "id": "f1420aff-8880-467f-a8ba-d38503754397",
   "metadata": {
    "tags": []
   },
   "outputs": [
    {
     "name": "stdout",
     "output_type": "stream",
     "text": [
      "dom(1..2).\n",
      "{ a(X) } :- dom(X).\n",
      "{ b(X) } :- dom(X).\n",
      "c(X) :- b(X).\n",
      ":- a(X), not c(X).\n",
      ":- not a(X), c(X).\n"
     ]
    }
   ],
   "source": [
    "! cat example.lp"
   ]
  },
  {
   "cell_type": "code",
   "execution_count": 3,
   "id": "fd59c1b8-875f-4e09-87d1-a33395a46111",
   "metadata": {},
   "outputs": [
    {
     "name": "stdout",
     "output_type": "stream",
     "text": [
      "dom(1) dom(2)\n",
      "dom(1) dom(2) b(2) c(2) a(2)\n",
      "dom(1) dom(2) b(1) c(1) a(1)\n",
      "dom(1) dom(2) b(1) b(2) c(1) c(2) a(1) a(2)\n",
      "SATISFIABLE\n"
     ]
    }
   ],
   "source": [
    "! clingo example.lp 0 -V0"
   ]
  },
  {
   "cell_type": "markdown",
   "id": "7d32c092-75b3-4706-8436-c2f6ed9ab95c",
   "metadata": {},
   "source": [
    "In the next cell we print the expected output of the command:\n",
    "* `python solving.py example.lp`\n",
    "\n",
    "The script is interactive (see the explanations below).\n",
    "  \n",
    "This interaction usually does not work on the notebook, \n",
    "so you will have to run the command on your console."
   ]
  },
  {
   "cell_type": "code",
   "execution_count": 4,
   "id": "5ddde6c4-6248-4e22-a739-77f487e68777",
   "metadata": {
    "tags": []
   },
   "outputs": [
    {
     "name": "stdout",
     "output_type": "stream",
     "text": [
      "solving version 1.0\n",
      "Reading from example.lp\n",
      "symbol\t\tis_fact\t\tis_external\tprogram_literal\tsolver_literal\n",
      "------------------------------------------------------------------------------\n",
      "dom(1)\t\tTrue\t\tFalse\t\t1\t\t1\n",
      "dom(2)\t\tTrue\t\tFalse\t\t2\t\t1\n",
      "a(1)\t\tFalse\t\tFalse\t\t7\t\t4\n",
      "a(2)\t\tFalse\t\tFalse\t\t8\t\t5\n",
      "b(1)\t\tFalse\t\tFalse\t\t3\t\t2\n",
      "b(2)\t\tFalse\t\tFalse\t\t4\t\t3\n",
      "c(1)\t\tFalse\t\tFalse\t\t5\t\t2\n",
      "c(2)\t\tFalse\t\tFalse\t\t6\t\t3\n",
      "\n",
      "Assignment: \n",
      "  decision_level: 0\n",
      "  has_conflict: False\n",
      "  is_total: False\n",
      "  literals in the assignment: 1 2 3 4 5\n",
      "  trail: 1\n",
      "\n",
      "0:dom(1)_dom(2) (P)\n",
      "Solving...\n",
      "b(1)_c(1) b(2)_c(2) a(1) a(2) ? a(1)\n",
      "1:  a(1) b(1)_c(1) (P)\n",
      "b(2)_c(2) a(2) ? -a(2)\n",
      "2:    -a(2) -b(2)_-c(2) (P)\n",
      "2:    -a(2) -b(2)_-c(2) (C)\n",
      "Answer: 1\n",
      "dom(1) dom(2) b(1) c(1) a(1)\n",
      "SATISFIABLE\n",
      "\n",
      "Models       : 1+\n",
      "Calls        : 1\n",
      "Time         : 4.750s (Solving: 4.74s 1st Model: 4.74s Unsat: 0.00s)\n",
      "CPU Time     : 0.006s"
     ]
    }
   ],
   "source": [
    "! cat output/output-01.txt"
   ]
  },
  {
   "cell_type": "markdown",
   "id": "bc2a4103-b069-4424-badd-108066c5fce8",
   "metadata": {},
   "source": [
    "### Part 1\n",
    "\n",
    "*Print a table with information about every symbolic atom, and show the initial assignment.*\n",
    "\n",
    "As can be seen in the table, for every symbolic atom you should print information about:\n",
    "* whether it is a fact and/or external\n",
    "* its program literal and its solver literal\n",
    "\n",
    "Observe how the trail of the initial assignment only has the solver literal `1`\n",
    "(that represents all facts).\n",
    "\n",
    "Some notes on the relation between symbolic atoms, program literals and solver literals:\n",
    "* Every symbolic atom is associated with one program literal, \n",
    "and every program literal is associated with one solver literal.\n",
    "* There may be program literals unrelated to any symbolic atom, \n",
    "and there may be solver literals unrelated to any program literal.\n",
    "* In the current implementation of *clingo* (v5.7.0)\n",
    "two different symbolic atoms are associated always with two different program literals, \n",
    "but this may change in some future version of *clingo*.\n",
    "* Two program literals may be associated with the same solver literal.\n",
    "You can see this in the table, where `b(1)` and `c(1)` have the same solver literal, \n",
    "as well as `b(2)` and `c(2)`.\n",
    "\n",
    "You can implement this part modifying the methods `__init__` and `init` of the propagator at [solving.py](solving.py)."
   ]
  },
  {
   "cell_type": "markdown",
   "id": "90cac149-461b-46d1-816e-d96ac3f1fd9b",
   "metadata": {},
   "source": [
    "### Part 2\n",
    "\n",
    "*Profile the search of the solver.*\n",
    "\n",
    "In our example, we have first \n",
    "```\n",
    "0:dom(1)_dom(2) (P)\n",
    "```\n",
    "This line indicates that when `propagate` is called the first time, \n",
    "the assignment is at decision level `0`,\n",
    "and the atoms `dom(1)` and `dom(2)` are true.\n",
    "\n",
    "These atoms are separated by `_` to show that they are associated with the same solver literal.\n",
    "\n",
    "We skip the next two lines (we have a look at the second of them in Part 3 below).\n",
    "\n",
    "In the next line we have:\n",
    "```\n",
    "1:  a(1) b(1)_c(1) (P)\n",
    "```\n",
    "This indicates that when `propagate` is called the next time, \n",
    "the assignment is at decision level `1`, \n",
    "and atoms `a(1)`, `b(1)` and `c(1)` have become true.\n",
    "\n",
    "The first atom, `a(1)`, has been chosen by the solver heuristic.\n",
    "After this, the solver literal shared by the other two atoms (number `2`, see in the table above) has been propagated\n",
    "and both become true.\n",
    "\n",
    "We skip again the next line, and in the next one we have something similar:\n",
    "```\n",
    "2:    -a(2) -b(2)_-c(2) (P)\n",
    "```\n",
    "Now at `propagate` the assignment is at decision level `2`, \n",
    "and the atoms `a(2)`, `b(2)` and `c(2)` have become false (the symbol `-` indicates this).\n",
    "\n",
    "The next line for check `(C)` is the same, since nothing was propagated, \n",
    "and then the answer set found is shown.\n",
    "\n",
    "To implement this, you should print the current assignment at the methods `propagate`, `undo` and `check`.\n",
    "\n",
    "In the script, this can be done implementing the method `_print_current_level`, \n",
    "and initializing/updating some data structures at the methods `__init__` and `init`.\n",
    "\n",
    "Since up to here you have not modified the `decide` method, \n",
    "your output may be different than above.\n",
    "For example, we obtain this:\n",
    "```\n",
    "...\n",
    "0:dom(1)_dom(2) (P)\n",
    "Solving...\n",
    "1:  -b(1)_-c(1) -a(1) (P)\n",
    "2:    -a(2) -b(2)_-c(2) (P)\n",
    "2:    -a(2) -b(2)_-c(2) (C)\n",
    "Answer: 1\n",
    "dom(1) dom(2)\n",
    "...\n",
    "```\n",
    "In this case, *clingo* made first `b(1)` true (and `c(1)`), and then `a(2)` false."
   ]
  },
  {
   "cell_type": "markdown",
   "id": "55b51bda-3090-4875-bb64-3994b2a459dd",
   "metadata": {},
   "source": [
    "### Part 3\n",
    "\n",
    "*Let the user make the decisions of the solver.*\n",
    "\n",
    "In the output above, after the propagation at level `0` and the `Solving...` message, the script printed:\n",
    "```\n",
    "b(1)_c(1) b(2)_c(2) a(1) a(2) ? a(1)\n",
    "```\n",
    "In the interaction, it first printed the atoms before the `?`, \n",
    "to indicate that at this point those atoms are unassigned.\n",
    "Then, *we* entered the atom `a(1)`.\n",
    "\n",
    "Similarly, in the line\n",
    "```\n",
    "b(2)_c(2) a(2) ? -a(2)\n",
    "```\n",
    "the script tells us that `b(2)`, `c(2)` and `a(2)` are unassigned, \n",
    "and we choose to make `a(2)` false.\n",
    "\n",
    "In the script, this can be implemented modifying the method `decide`, and using Python function `input(...)`, for example."
   ]
  },
  {
   "cell_type": "markdown",
   "id": "f71d3c82-8d7f-49b0-9010-5e0d8aad3bcb",
   "metadata": {},
   "source": [
    "### More examples\n",
    "\n",
    "Now we can add this rule:"
   ]
  },
  {
   "cell_type": "code",
   "execution_count": 5,
   "id": "fc8a818a-030b-4c27-be0c-9ac52235b522",
   "metadata": {},
   "outputs": [
    {
     "name": "stdout",
     "output_type": "stream",
     "text": [
      ":- a(X), b(X).\n"
     ]
    }
   ],
   "source": [
    "! cat one.lp"
   ]
  },
  {
   "cell_type": "markdown",
   "id": "dca939cf-f324-44b1-80bf-aa1bac70131a",
   "metadata": {},
   "source": [
    "Then, if we do \n",
    "```\n",
    "python solving.py example.lp one.lp\n",
    "```\n",
    "instead of \n",
    "```\n",
    "0:dom(1)_dom(2) (P)\n",
    "Solving...\n",
    "b(1)_c(1) b(2)_c(2) a(1) a(2) ? a(1)\n",
    "1:  a(1) b(1)_c(1) (P)\n",
    "b(2)_c(2) a(2) ? -a(2)\n",
    "2:    -a(2) -b(2)_-c(2) (P)\n",
    "2:    -a(2) -b(2)_-c(2) (C)\n",
    "Answer: 1\n",
    "dom(1) dom(2) b(1) c(1) a(1)\n",
    "```\n",
    "now we obtain this (choosing first `a(1)` and then `-a(2)`:\n",
    "```\n",
    "0:dom(1)_dom(2) (P)\n",
    "Solving...\n",
    "b(1)_c(1) b(2)_c(2) a(1) a(2) ? a(1)\n",
    "0:dom(1)_dom(2) -a(1) -b(1)_-c(1) (P)\n",
    "b(2)_c(2) a(2) ? -a(2)\n",
    "1:  -a(2) -b(2)_-c(2) (P)\n",
    "1:  -a(2) -b(2)_-c(2) (C)\n",
    "Answer: 1\n",
    "dom(1) dom(2)\n",
    "```\n",
    "See how after choosing `a(1)`, instead of going to decision level `1` as above, \n",
    "we go back to `0`: how is this possible?\n",
    "\n",
    "* After setting `a(1)` to true, the solver can propagate \n",
    "`a(1)`, `b(1)` and `c(1)` to true as before. \n",
    "But now that we added constraint `:- a(X), b(X)`\n",
    "it can also propagate `b(1)` to false and generate a conflict.\n",
    "\n",
    "* In this situation, *clingo* learns a new nogood and goes back to level `0`.\n",
    "Then, it propagates `a(1)`, `b(1)` and `c(1)` to false, and the search continues...\n",
    "\n",
    "This example shows that \n",
    "whenever the solver's propagation leads to a conflict, \n",
    "we cannot see what literals where propagated at that step.\n",
    "This is a limitation of our profiling.\n",
    "\n",
    "Going one step further, if now we add this:"
   ]
  },
  {
   "cell_type": "code",
   "execution_count": 6,
   "id": "87feeee0-52e4-4db4-9e7b-576a4d6e596d",
   "metadata": {},
   "outputs": [
    {
     "name": "stdout",
     "output_type": "stream",
     "text": [
      ":- not a(X), not b(X), dom(X).\n"
     ]
    }
   ],
   "source": [
    "! cat two.lp"
   ]
  },
  {
   "cell_type": "markdown",
   "id": "6fdf782c-7d38-41ba-a172-0a1fb6dd1ffc",
   "metadata": {},
   "source": [
    "Then the command:\n",
    "```\n",
    "python solving.py example.lp one.lp two.lp\n",
    "```\n",
    "generates this (after we choose `a(1)`):\n",
    "```\n",
    "...\n",
    "0:dom(1)_dom(2) (P)\n",
    "Solving...\n",
    "a(1) a(2) b(1)_c(1) b(2)_c(2) ? a(1)\n",
    "UNSATISFIABLE\n",
    "...\n",
    "```\n",
    "In this case, *clingo* again reaches a conflict after choosing `a(1)`, \n",
    "but now it proves `UNSATISFIABLE` right away."
   ]
  },
  {
   "cell_type": "markdown",
   "id": "cabc819f-72b0-45c9-be5a-359e7d7eccd6",
   "metadata": {},
   "source": [
    "# Exercise 2\n",
    "\n",
    "The task of this exercise is to specialize the script\n",
    "that you implemented in Exercise 1 to the Latin Square problem."
   ]
  },
  {
   "cell_type": "markdown",
   "id": "8b6e26da-af20-4fe1-8ea7-521e4bf0a9f8",
   "metadata": {},
   "source": [
    "In the Latin Square problem of size `n` we have to:\n",
    "* fill a square grid of `n` times `n` cells with numbers from `1` to `n` such that\n",
    "* a number does not occur twice in a row, and\n",
    "* a number does not occur twice in a column.\n",
    "\n",
    "There are `12` Latin squares of size `3`. There are only `4` where the top-left cell has number `1`.\n",
    "\n",
    "They can be represented by this encoding:"
   ]
  },
  {
   "cell_type": "code",
   "execution_count": 4,
   "id": "5cf842b2-81ab-4750-b36d-009883f2763e",
   "metadata": {},
   "outputs": [
    {
     "name": "stdout",
     "output_type": "stream",
     "text": [
      "number(1..3).\n",
      "\n",
      "latin(1,1,1).\n",
      "\n",
      "1 { latin(X,Y,N) : number(N) } 1 :- number(X), number(Y).\n",
      ":- latin(X,Y1,N), latin(X,Y2,N), Y1 < Y2, number(X), number(N).\n",
      ":- latin(X1,Y,N), latin(X2,Y,N), X1 < X2, number(Y), number(N).\n",
      "\n",
      "#show latin/3.\n"
     ]
    }
   ],
   "source": [
    "! cat latin.lp"
   ]
  },
  {
   "cell_type": "markdown",
   "id": "f77ba11b-0344-43d1-b4ad-a03df9f1610a",
   "metadata": {},
   "source": [
    "The choice rule fills the grid, and \n",
    "the two integrity constraints check the conditions on rows and columns."
   ]
  },
  {
   "cell_type": "code",
   "execution_count": 7,
   "id": "c66cb921-1b93-451a-b7f9-89b9061c13d8",
   "metadata": {},
   "outputs": [
    {
     "name": "stdout",
     "output_type": "stream",
     "text": [
      "latin(1,1,1) latin(3,2,1) latin(2,3,1) latin(3,1,2) latin(2,2,2) latin(1,3,2) latin(2,1,3) latin(1,2,3) latin(3,3,3)\n",
      "latin(1,1,1) latin(2,2,1) latin(3,3,1) latin(3,1,2) latin(1,2,2) latin(2,3,2) latin(2,1,3) latin(3,2,3) latin(1,3,3)\n",
      "latin(1,1,1) latin(2,2,1) latin(3,3,1) latin(2,1,2) latin(3,2,2) latin(1,3,2) latin(3,1,3) latin(1,2,3) latin(2,3,3)\n",
      "latin(1,1,1) latin(3,2,1) latin(2,3,1) latin(2,1,2) latin(1,2,2) latin(3,3,2) latin(3,1,3) latin(2,2,3) latin(1,3,3)\n",
      "SATISFIABLE\n"
     ]
    }
   ],
   "source": [
    "! clingo latin.lp -V0 0"
   ]
  },
  {
   "cell_type": "markdown",
   "id": "17ffdf7b-4b52-42e4-89ec-11e6347bdfe9",
   "metadata": {},
   "source": [
    "The answer sets correspond to the Latin squares\n",
    "```\n",
    "1 3 2     1 2 3    1 3 2    1 2 3\n",
    "3 2 1     3 1 2    2 1 3    2 3 1\n",
    "2 1 3     2 3 1    3 2 1    3 1 2\n",
    "```"
   ]
  },
  {
   "cell_type": "markdown",
   "id": "6d279ec2-5eb7-420b-b8e7-87b15220cb08",
   "metadata": {},
   "source": [
    "In this exercise:\n",
    "* at every call to `propagate`, `undo` and `check`\n",
    "* *the script should print the square represented by the true atoms of the assignment*\n",
    "* instead of printing the assignment at the current decision level.\n",
    "\n",
    "For this, you can modify the function `_print_current_level` \n",
    "to call the following function `_print_latin` with the list of `latin/3` atoms that are \n",
    "true in the assignment."
   ]
  },
  {
   "cell_type": "code",
   "execution_count": 11,
   "id": "9a718eb9-5e1e-4f88-bc64-ad5a19ca7f8b",
   "metadata": {},
   "outputs": [
    {
     "name": "stdout",
     "output_type": "stream",
     "text": [
      "1 . .\n",
      ". 2 1\n",
      ". 1 3\n"
     ]
    }
   ],
   "source": [
    "def _print_latin(items): \n",
    "    grid = [[None]*3 for _ in range(3)]\n",
    "    for item in items:\n",
    "        X, Y, N = map(int, item[6:-1].split(','))\n",
    "        grid[X-1][Y-1] = N\n",
    "    for row in grid:\n",
    "        print(' '.join(str(cell) if cell else '.' for cell in row))\n",
    "\n",
    "items = ['latin(1,1,1)', \n",
    "                          'latin(2,2,2)', 'latin(2,3,1)',\n",
    "                          'latin(3,2,1)', 'latin(3,3,3)']\n",
    "_print_latin(items)"
   ]
  },
  {
   "cell_type": "markdown",
   "id": "bc44a453-d1c4-438f-8c82-cd4bcd6fac0f",
   "metadata": {},
   "source": [
    "Once this is in place, one can use the script to play Latin Squares with the help of *clingo*:\n",
    "the user makes the decisions, and *clingo* does the rest."
   ]
  },
  {
   "cell_type": "markdown",
   "id": "50ca86c4-d569-4592-9033-726890955f5c",
   "metadata": {},
   "source": [
    "This is part of the expected output if we run\n",
    "```\n",
    "python solving.py latin.lp\n",
    "```\n",
    "and we choose first `latin(1,2,2)` and then `latin(2,1,2)`."
   ]
  },
  {
   "cell_type": "code",
   "execution_count": 13,
   "id": "7c118540-9e04-4c2d-a5dc-ae57429ecf65",
   "metadata": {},
   "outputs": [
    {
     "name": "stdout",
     "output_type": "stream",
     "text": [
      "1 . .\n",
      ". . .\n",
      ". . .\n",
      "(P)\n",
      "Solving...\n",
      "latin(2,2,1) latin(3,2,1) latin(2,3,1) latin(3,3,1) latin(2,1,2) latin(3,1,2) latin(2,2,2) latin(1,2,2) latin(3,2,2) latin(2,3,2) latin(1,3,2) latin(3,3,2) latin(2,1,3) latin(3,1,3) latin(2,2,3) latin(1,2,3) latin(3,2,3) latin(2,3,3) latin(1,3,3) latin(3,3,3) ? latin(1,2,2)\n",
      "1 2 3\n",
      ". . .\n",
      ". . .\n",
      "(P)\n",
      "latin(2,2,1) latin(3,2,1) latin(2,3,1) latin(3,3,1) latin(2,1,2) latin(3,1,2) latin(2,3,2) latin(3,3,2) latin(2,1,3) latin(3,1,3) latin(2,2,3) latin(3,2,3) ? latin(2,1,2)\n",
      "1 2 3\n",
      "2 3 1\n",
      "3 1 2\n",
      "(P)\n",
      "1 2 3\n",
      "2 3 1\n",
      "3 1 2\n",
      "(C)\n",
      "Answer: 1\n",
      "latin(1,1,1) latin(3,2,1) latin(2,3,1) latin(2,1,2) latin(1,2,2) latin(3,3,2) latin(3,1,3) latin(2,2,3) latin(1,3,3)\n",
      "SATISFIABLE\n"
     ]
    }
   ],
   "source": [
    "! cat outputs/output-02.txt"
   ]
  },
  {
   "cell_type": "markdown",
   "id": "5d1e423e-a09b-4923-ae5b-a3e2a3dd1514",
   "metadata": {},
   "source": [
    "After making `latin(1,2,2)` true, *clingo* can propagate `latin(1,3,3)`. \n",
    "\n",
    "After making `latin(2,1,2)` true, *clingo* can propagate the rest of the values and fill in the square."
   ]
  },
  {
   "cell_type": "markdown",
   "id": "b3fc8b80-be4c-4017-ace8-33a8d943f3bd",
   "metadata": {},
   "source": [
    "# Exercise 3\n",
    "\n",
    "A propagator has *implicitly* a set of nogoods (or constraints).\n",
    "\n",
    "Those nogoods are not generated from the input logic program.\n",
    "\n",
    "Instead, whenever they are needed at a propagation or check step, the propagator generates them and adds them to *clingo*:\n",
    "they are made explicit *on demand*.\n",
    "\n",
    "This is very useful when the set of nogoods is huge and *clingo* would be too slow if it had to store those nogoods explicitly.\n",
    "This is usually the case, for example, if the logic program represents big numbers.\n",
    "\n",
    "For instance, the propagator for difference constraints of Section 7 of [1] \n",
    "handles theory atoms of the form `&diff(x - y) <= k`, that stand for equations `x - y <= k`:\n",
    "* The propagator has *implicitly* one nogood\n",
    "for every set of theory atoms that stand for an inconsistent set of equations.\n",
    "* Whenever such a set of theory atoms becomes true, \n",
    "the propagator detects it, and adds the corresponding nogood that prohibits it.\n",
    "\n",
    "In this exercise we consider the second integrity constraint of our Latin square encoding:\n",
    "* `:- latin(X1,Y,N), latin(X2,Y,N), X1 < X2, number(Y), number(N).`\n",
    "\n",
    "Inside clingo, this generates one nogood for each ground instance of the constraint:\n",
    "```\n",
    ":-latin(2,1,1),latin(1,1,1).\n",
    ":-latin(3,1,1),latin(1,1,1).\n",
    ":-latin(3,1,1),latin(2,1,1).\n",
    ":-latin(2,2,1),latin(1,2,1).\n",
    ":-latin(3,2,1),latin(1,2,1).\n",
    ":-latin(3,2,1),latin(2,2,1).\n",
    ":-latin(2,3,1),latin(1,3,1).\n",
    ":-latin(3,3,1),latin(1,3,1).\n",
    ":-latin(3,3,1),latin(2,3,1).\n",
    ":-latin(2,1,2),latin(1,1,2).\n",
    ":-latin(3,1,2),latin(1,1,2).\n",
    ":-latin(3,1,2),latin(2,1,2).\n",
    ":-latin(2,2,2),latin(1,2,2).\n",
    ":-latin(3,2,2),latin(1,2,2).\n",
    ":-latin(3,2,2),latin(2,2,2).\n",
    ":-latin(2,3,2),latin(1,3,2).\n",
    ":-latin(3,3,2),latin(1,3,2).\n",
    ":-latin(3,3,2),latin(2,3,2).\n",
    ":-latin(2,1,3),latin(1,1,3).\n",
    ":-latin(3,1,3),latin(1,1,3).\n",
    ":-latin(3,1,3),latin(2,1,3).\n",
    ":-latin(2,2,3),latin(1,2,3).\n",
    ":-latin(3,2,3),latin(1,2,3).\n",
    ":-latin(3,2,3),latin(2,2,3).\n",
    ":-latin(2,3,3),latin(1,3,3).\n",
    ":-latin(3,3,3),latin(1,3,3).\n",
    ":-latin(3,3,3),latin(2,3,3).\n",
    "```\n",
    "\n",
    "You should *comment* this constraint, so that those nogoods will no longer be stored explicitly inside *clingo*.\n",
    "\n",
    "**Your task in this exercise is to extend the propagator of the script\n",
    "to process those nogoods *implicitly*.**\n",
    "\n",
    "**You should do it in 4 possible ways or versions.**\n",
    "\n",
    "The specific version is selected by option `-type=[1..4]` (`--type=0` was used by default for the previous exercises)\n",
    "and is represented by an integer variable:\n",
    "* CHECK\n",
    "* PROPAGATE_ON_CONFLICT\n",
    "* PROPAGATE_IF_POSSIBLE\n",
    "* PROPAGATE_IF_POSSIBLE_STATEFUL\n",
    "\n",
    "To test the script you can check if using the propagator with the commented rule you obtain the same answer sets as with the original encoding (calling `python solving.py latin.lp 0 --type=[1..4]`).\n",
    "\n",
    "To simplify your work:\n",
    "* You may want to modify the `decide` step to return `abs(fallback)` right away, \n",
    "so that *clingo* always decides on its own, without interaction, to add some number to a cell.\n",
    "* You may add nogoods using option `lock=True` so that added nogoods are never deleted by the solver, for example with this line\n",
    "( where `nogood` is a variable that contains a list of literals):\n",
    "  - `control.add_nogood(nogood, lock=True) and control.propagate()`\n",
    "* You do not have to consider multi-threading, i.e., you do not have to use variable `thread_id`. "
   ]
  },
  {
   "cell_type": "markdown",
   "id": "4c0abc44-8152-47b7-b7ac-bda95d7490da",
   "metadata": {},
   "source": [
    "### Version CHECK\n",
    "\n",
    "In the method `check` the propagator should:\n",
    "* check if *any number* occurs twice in a column\n",
    "* and if that is the case, it should add the nogood that prohibits that specific case.\n",
    "\n",
    "This may also require some changes in the `__init__` and `init` methods.\n",
    "\n",
    "### Version PROPAGATE_ON_CONFLICT\n",
    "\n",
    "In the `propagate` method the propagator should \n",
    "do the same as in the `check` method.\n",
    "\n",
    "The method should not use variable `changes`.\n",
    "\n",
    "### Version PROPAGATE_IF_POSSIBLE\n",
    "\n",
    "In the `propagate` method the propagator should \n",
    "do the same as in the `check` method, \n",
    "but also:\n",
    "* if *some number* `n` occurs in a column `c` and some literal `l` representing that `n` occurs in another cell of `c` *is unassigned*\n",
    "* then the propagator should add the nogood that forbids the combination of:\n",
    "  - the literal for `n` being at its current position, and\n",
    "  - `l`.\n",
    "\n",
    "The method should not use the variable `changes`.\n",
    "\n",
    "### Version PROPAGATE_IF_POSSIBLE_STATEFUL (optional)\n",
    "\n",
    "In the `propagate` method the propagator should:\n",
    "* have the same functionality as in version PROPAGATE_IF_POSSIBLE\n",
    "* but instead of checking the conditions for *any number*\n",
    "* it should only check the conditions that are triggered\n",
    "  by the literals in the variable `changes`\n",
    "* and it should check those conditions using some data structure `d`\n",
    "  that represents for each number `n` and column `c` which literal (if any)\n",
    "  that assigns `n` to some cell in `c` is true\n",
    "\n",
    "This version also requires to implement the method `undo` \n",
    "to mantain the data structure `d`.\n",
    "For example, if the propagator had `d[n][c]=l` and `l` becomes unassigned, then it should set `d[n][c]` to `None`.\n",
    "\n",
    "In a real system such a data structure is used\n",
    "to improve the performance of the propagator.\n",
    "\n",
    "The idea is that instead of having to check conditions over all possible literals, \n",
    "the propagator only has to check the conditions looking at the information of this data structure.\n",
    "\n",
    "The price paid for this is that the data structure has to be kept always\n",
    "up to date with the assignment (hence the need to implement the `undo` method)."
   ]
  }
 ],
 "metadata": {
  "kernelspec": {
   "display_name": "Python 3 (ipykernel)",
   "language": "python",
   "name": "python3"
  },
  "language_info": {
   "codemirror_mode": {
    "name": "ipython",
    "version": 3
   },
   "file_extension": ".py",
   "mimetype": "text/x-python",
   "name": "python",
   "nbconvert_exporter": "python",
   "pygments_lexer": "ipython3",
   "version": "3.12.4"
  }
 },
 "nbformat": 4,
 "nbformat_minor": 5
}
